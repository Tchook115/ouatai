{
 "cells": [
  {
   "cell_type": "code",
   "execution_count": 21,
   "id": "ea7fa914",
   "metadata": {},
   "outputs": [],
   "source": [
    "# notebook to convert raw quickdraw data using incremental RDP to fit everything within, say, 300 datapoints but not sacrifice quality.\n",
    "\n",
    "import numpy as np\n",
    "#from magenta.models.sketch_rnn.utils import *\n",
    "import magenta.models.sketch_rnn.utils as util\n",
    "\n",
    "import os\n",
    "import json\n",
    "import time\n",
    "import random\n",
    "from rdp import rdp\n",
    "\n",
    "np.set_printoptions(precision=8, edgeitems=6, linewidth=200, suppress=True)"
   ]
  },
  {
   "cell_type": "code",
   "execution_count": 2,
   "id": "23a799f4",
   "metadata": {},
   "outputs": [],
   "source": [
    "def raw_to_lines(raw, epsilon=0.25):\n",
    "    result = []\n",
    "    N = len(raw)\n",
    "    for i in range(N):\n",
    "        line = []\n",
    "        rawline = raw[i]\n",
    "        M = len(rawline[0])\n",
    "        if M <= 2:\n",
    "            continue\n",
    "        for j in range(M):\n",
    "            line.append([rawline[0][j], rawline[1][j]])\n",
    "        line = rdp(line, epsilon=epsilon) \n",
    "        result.append(line)\n",
    "    return result\n"
   ]
  },
  {
   "cell_type": "code",
   "execution_count": 3,
   "id": "0f4b5b8c",
   "metadata": {},
   "outputs": [],
   "source": [
    "# config\n",
    "NAME = \"bulldozer\"\n",
    "TARGET = 200"
   ]
  },
  {
   "cell_type": "code",
   "execution_count": 5,
   "id": "31e38372",
   "metadata": {},
   "outputs": [
    {
     "name": "stdout",
     "output_type": "stream",
     "text": [
      "/home/etiennesdb/code/Tchook115/ouatai/notebooks\r\n"
     ]
    }
   ],
   "source": [
    "!pwd"
   ]
  },
  {
   "cell_type": "code",
   "execution_count": 24,
   "id": "4eb91cdb",
   "metadata": {},
   "outputs": [],
   "source": [
    "raw_file = open('../raw_data/Compiled format/'+NAME+'.ndjson', 'r') \n",
    "raw_lines = raw_file.readlines()"
   ]
  },
  {
   "cell_type": "code",
   "execution_count": 25,
   "id": "da1a657d",
   "metadata": {},
   "outputs": [
    {
     "name": "stdout",
     "output_type": "stream",
     "text": [
      "10000\n"
     ]
    }
   ],
   "source": [
    "num_drawings = len(raw_lines)\n",
    "print(num_drawings)"
   ]
  },
  {
   "cell_type": "code",
   "execution_count": 26,
   "id": "55144733",
   "metadata": {
    "scrolled": true
   },
   "outputs": [
    {
     "name": "stdout",
     "output_type": "stream",
     "text": [
      "i 0\n",
      "i 1000\n",
      "i 2000\n",
      "i 3000\n",
      "i 4000\n",
      "i 5000\n",
      "i 6000\n",
      "i 7000\n",
      "i 8000\n",
      "i 9000\n"
     ]
    }
   ],
   "source": [
    "all_strokes = []\n",
    "for i in range(num_drawings):\n",
    "    raw_drawing = json.loads(raw_lines[i])['drawing']\n",
    "    lines = raw_to_lines(raw_drawing)\n",
    "    strokes = util.lines_to_strokes(lines)\n",
    "    if i % 1000 == 0:\n",
    "        print(\"i\", i)\n",
    "    if len(strokes) < 20:\n",
    "        continue\n",
    "    strokes[0, 0] = 0\n",
    "    strokes[0, 1] = 0\n",
    "    all_strokes.append(strokes)\n",
    "random.shuffle(all_strokes)"
   ]
  },
  {
   "cell_type": "code",
   "execution_count": 27,
   "id": "06cd5ab8",
   "metadata": {},
   "outputs": [
    {
     "data": {
      "text/plain": [
       "9984"
      ]
     },
     "execution_count": 27,
     "metadata": {},
     "output_type": "execute_result"
    }
   ],
   "source": [
    "len(all_strokes)"
   ]
  },
  {
   "cell_type": "code",
   "execution_count": 28,
   "id": "23bac6fd",
   "metadata": {},
   "outputs": [
    {
     "name": "stderr",
     "output_type": "stream",
     "text": [
      "/home/etiennesdb/.pyenv/versions/3.8.6/envs/ouatai/lib/python3.8/site-packages/numpy/core/_asarray.py:136: VisibleDeprecationWarning: Creating an ndarray from ragged nested sequences (which is a list-or-tuple of lists-or-tuples-or ndarrays with different lengths or shapes) is deprecated. If you meant to do this, you must specify 'dtype=object' when creating the ndarray\n",
      "  return array(a, dtype, copy=False, order=order, subok=True)\n"
     ]
    }
   ],
   "source": [
    "np.savez_compressed('../raw_data/npz format/'+NAME+\".npz\", rawdata=all_strokes)"
   ]
  },
  {
   "cell_type": "code",
   "execution_count": null,
   "id": "f8b6fabf",
   "metadata": {},
   "outputs": [],
   "source": []
  },
  {
   "cell_type": "code",
   "execution_count": null,
   "id": "f8f2544e",
   "metadata": {},
   "outputs": [],
   "source": []
  },
  {
   "cell_type": "code",
   "execution_count": null,
   "id": "a6a3c5bf",
   "metadata": {},
   "outputs": [],
   "source": []
  },
  {
   "cell_type": "code",
   "execution_count": null,
   "id": "1da48364",
   "metadata": {},
   "outputs": [],
   "source": []
  }
 ],
 "metadata": {
  "kernelspec": {
   "display_name": "Python 3 (ipykernel)",
   "language": "python",
   "name": "python3"
  },
  "language_info": {
   "codemirror_mode": {
    "name": "ipython",
    "version": 3
   },
   "file_extension": ".py",
   "mimetype": "text/x-python",
   "name": "python",
   "nbconvert_exporter": "python",
   "pygments_lexer": "ipython3",
   "version": "3.8.6"
  },
  "toc": {
   "base_numbering": 1,
   "nav_menu": {},
   "number_sections": true,
   "sideBar": true,
   "skip_h1_title": false,
   "title_cell": "Table of Contents",
   "title_sidebar": "Contents",
   "toc_cell": false,
   "toc_position": {},
   "toc_section_display": true,
   "toc_window_display": false
  }
 },
 "nbformat": 4,
 "nbformat_minor": 5
}
