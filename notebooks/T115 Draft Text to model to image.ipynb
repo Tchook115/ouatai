{
 "cells": [
  {
   "cell_type": "code",
   "execution_count": 1,
   "id": "ea0fff78",
   "metadata": {},
   "outputs": [
    {
     "name": "stderr",
     "output_type": "stream",
     "text": [
      "2021-09-07 17:13:40.804641: W tensorflow/stream_executor/platform/default/dso_loader.cc:59] Could not load dynamic library 'libcudart.so.10.1'; dlerror: libcudart.so.10.1: cannot open shared object file: No such file or directory\n",
      "2021-09-07 17:13:40.804765: I tensorflow/stream_executor/cuda/cudart_stub.cc:29] Ignore above cudart dlerror if you do not have a GPU set up on your machine.\n"
     ]
    },
    {
     "name": "stdout",
     "output_type": "stream",
     "text": [
      "tf: 2.3.4\n",
      "tf.keras: 2.4.0\n"
     ]
    }
   ],
   "source": [
    "%matplotlib inline\n",
    "%config InlineBackend.figure_format = 'retina'\n",
    "\n",
    "import os\n",
    "import sys\n",
    "import math\n",
    "import numpy as np\n",
    "import matplotlib as mpl\n",
    "import seaborn as sns\n",
    "import tensorflow as tf\n",
    "from tqdm.notebook import tqdm, trange\n",
    "from IPython.display import HTML\n",
    "from matplotlib import pyplot as plt\n",
    "from matplotlib.animation import FuncAnimation\n",
    "from matplotlib.path import Path\n",
    "from matplotlib.patches import Rectangle, PathPatch\n",
    "from tensorflow import keras as K\n",
    "from sklearn.preprocessing import minmax_scale\n",
    "from sklearn.decomposition import PCA\n",
    "from sklearn.utils import shuffle\n",
    "import random\n",
    "import ipdb\n",
    "\n",
    "# sys.path.append('../../SketchRNN_tf2')\n",
    "from sketchrnn_ouatai import models, dataset, utils\n",
    "\n",
    "sns.set('notebook', 'whitegrid', rc=utils.mpl_rc())\n",
    "\n",
    "print(\"tf: {}\".format(tf.version.VERSION))\n",
    "print(\"tf.keras: {}\".format(K.__version__))"
   ]
  },
  {
   "cell_type": "code",
   "execution_count": 2,
   "id": "897a259f",
   "metadata": {},
   "outputs": [],
   "source": [
    "import random\n",
    "from PIL import Image\n",
    "import io\n",
    "import pandas as pd"
   ]
  },
  {
   "cell_type": "code",
   "execution_count": 3,
   "id": "5bea26c2",
   "metadata": {},
   "outputs": [
    {
     "name": "stdout",
     "output_type": "stream",
     "text": [
      "/home/tchook/code/Tchook115/ouatai/notebooks\n",
      "models_sketch_rnn_airplane_weights.100.hdf5\n",
      "models_sketch_rnn_angel_weights.100.hdf5\n"
     ]
    }
   ],
   "source": [
    "!pwd\n",
    "!ls ../../raw_data/models/"
   ]
  },
  {
   "cell_type": "markdown",
   "id": "4f2c81b2",
   "metadata": {},
   "source": [
    "## dessine moi un objet"
   ]
  },
  {
   "cell_type": "code",
   "execution_count": 4,
   "id": "efdba48d",
   "metadata": {},
   "outputs": [],
   "source": [
    "best_images = {\n",
    "    #'bulldozer': np.load('/home/romain/code/Tchook115/raw_data/best_bulldozer_100_epochs.npy', allow_pickle=True),\n",
    "    #'rabbit' : np.load('/home/romain/code/Tchook115/raw_data/best_rabbit.npy', allow_pickle=True), \n",
    "    #'cat' : np.load('/home/romain/code/Tchook115/raw_data/best_cat.npy', allow_pickle=True),\n",
    "    #'ant' : np.load('/home/romain/code/Tchook115/raw_data/best_ant.npy', allow_pickle=True),\n",
    "    #'basket' : np.load('/home/romain/code/Tchook115/raw_data/best_basket.npy', allow_pickle=True)\n",
    "    'angel' : np.load('/home/tchook/code/Tchook115/raw_data/best_angel.npy', allow_pickle=True),\n",
    "    'airplane' : np.load('/home/tchook/code/Tchook115/raw_data/best_airplane.npy', allow_pickle=True)\n",
    "}\n",
    "fichiers = {\n",
    "#         'bulldozer': 'models_sketch_rnn_bulldozer_weights.100.hdf5', \n",
    "#         'cat' : 'sketch_rnn_cat_weights.78_0.01.hdf5',\n",
    "#         'rabbit' : 'sketch_rnn_rabbit_weights.100_0.06.hdf5',\n",
    "#         'ant' : ' models_sketch_rnn_ant_weights.100.hdf5',\n",
    "#         'basket' : 'models_sketch_rnn_basket_weights.200.hdf5'\n",
    "            'angel' : 'models_sketch_rnn_angel_weights.100.hdf5',\n",
    "            'airplane' : 'models_sketch_rnn_airplane_weights.100.hdf5'\n",
    "               }\n",
    "words = ['angel', 'airplane']"
   ]
  },
  {
   "cell_type": "code",
   "execution_count": null,
   "id": "3d40e0e5",
   "metadata": {},
   "outputs": [],
   "source": [
    "word = 'angel'\n",
    "fig, axs = plt.subplots(2, 10, figsize=(20, 4))\n",
    "for index, ax in enumerate(axs[0]):\n",
    "    utils.plot_strokes(ax, utils.to_normal_strokes(best_images[word][index]))\n",
    "for index, ax in enumerate(axs[1]):\n",
    "    utils.plot_strokes(ax, utils.to_normal_strokes(best_images[word][index+10]))"
   ]
  },
  {
   "cell_type": "code",
   "execution_count": 5,
   "id": "681642af",
   "metadata": {},
   "outputs": [],
   "source": [
    "def dessine_moi_un(word, temperature = 0.3, color = 'black', zoom = 1):\n",
    "    \n",
    "    if word not in words:\n",
    "        return 'essaie un autre mot stp'\n",
    "    \n",
    "    #test de variables random\n",
    "    max_seq_len = best_images[word][0].shape[0]-1\n",
    "    data_train = [1 for k in range(10000)]\n",
    "    \n",
    "    hps = {\n",
    "        \"max_seq_len\": max_seq_len,\n",
    "        'batch_size': 100,\n",
    "        \"num_batches\": math.ceil(len(data_train) / 100),\n",
    "        \"epochs\": 1,\n",
    "        \"recurrent_dropout_prob\": 0.1,\n",
    "        \"enc_rnn_size\": 256,\n",
    "        \"dec_rnn_size\": 512,\n",
    "        \"z_size\": 128,\n",
    "        \"num_mixture\": 20,\n",
    "        \"learning_rate\": 0.001,\n",
    "        \"min_learning_rate\": 0.00001,\n",
    "        \"decay_rate\": 0.9999,\n",
    "        \"grad_clip\": 1.0,\n",
    "        'kl_tolerance': 0.2,\n",
    "        'kl_decay_rate': 0.99995,\n",
    "        \"kl_weight\": 0.5,\n",
    "        'kl_weight_start': 0.01,\n",
    "    }\n",
    "    \n",
    "    # load model\n",
    "    sketchrnn = models.SketchRNN(hps)\n",
    "    initial_epoch, initial_loss = 100, 0.06\n",
    "    \n",
    "    checkpoint = os.path.join('../../raw_data/models/', fichiers[word])\n",
    "    sketchrnn.load_weights(checkpoint)\n",
    "    \n",
    "    # building image \n",
    "    best_pic = random.choice(best_images[word])\n",
    "    d = np.expand_dims(best_pic,0)\n",
    "    z = sketchrnn.models['encoder'].predict(d[:,1:])[0]\n",
    "    strokes = sketchrnn.sample(z=z, temperature=temperature)\n",
    "    \n",
    "    final_object = utils.to_normal_strokes(strokes)\n",
    "    figheight = 3*zoom\n",
    "    figwidth = 3*zoom\n",
    "    figsize = (figheight,figwidth)\n",
    "    fig, ax = plt.subplots(figsize=figsize)\n",
    "    utils.plot_strokes(ax, final_object, ec = color)\n",
    "    \n",
    "    # figure to PIL image\n",
    "    buf = io.BytesIO()\n",
    "    fig.savefig(buf, format='png',pad_inches=0,transparent=True)\n",
    "    buf.seek(0)\n",
    "    image = Image.open(buf)\n",
    "    image = image.copy()\n",
    "    buf.close()\n",
    "    return image"
   ]
  },
  {
   "cell_type": "code",
   "execution_count": null,
   "id": "a95f50cc",
   "metadata": {},
   "outputs": [],
   "source": [
    "image = dessine_moi_un('angel')"
   ]
  },
  {
   "cell_type": "code",
   "execution_count": null,
   "id": "62ab49f4",
   "metadata": {},
   "outputs": [],
   "source": [
    "type(image)"
   ]
  },
  {
   "cell_type": "code",
   "execution_count": null,
   "id": "9283d7d8",
   "metadata": {},
   "outputs": [],
   "source": [
    "for k in range(5):\n",
    "    dessine_moi_un('angel')"
   ]
  },
  {
   "cell_type": "code",
   "execution_count": null,
   "id": "bb6c688f",
   "metadata": {},
   "outputs": [],
   "source": [
    "ange = dessine_moi_un('angel', color = 'green', zoom = 1)"
   ]
  },
  {
   "cell_type": "code",
   "execution_count": null,
   "id": "a837b4da",
   "metadata": {},
   "outputs": [],
   "source": [
    "type(ange)"
   ]
  },
  {
   "cell_type": "code",
   "execution_count": null,
   "id": "b3b92da3",
   "metadata": {},
   "outputs": [],
   "source": [
    "type(ange.size)"
   ]
  },
  {
   "cell_type": "markdown",
   "id": "6edeee01",
   "metadata": {},
   "source": [
    "## la scene"
   ]
  },
  {
   "cell_type": "code",
   "execution_count": 6,
   "id": "2d62e4af",
   "metadata": {},
   "outputs": [],
   "source": [
    "scene_size = (2_000, 1_000)"
   ]
  },
  {
   "cell_type": "code",
   "execution_count": 7,
   "id": "4103d219",
   "metadata": {},
   "outputs": [],
   "source": [
    "def construis_la_scene(list_objects, scene_size = scene_size):\n",
    "    '''\n",
    "    list_objects = [[img_obj1, position_obj1], ...]\n",
    "    '''\n",
    "    scene = Image.new('RGBA', scene_size)\n",
    "    for obj in list_objects:\n",
    "        scene.paste(obj[0], obj[1])\n",
    "        #scene = Image.alpha_composite(scene, obj[0])\n",
    "    return scene"
   ]
  },
  {
   "cell_type": "code",
   "execution_count": 8,
   "id": "b3593a2d",
   "metadata": {},
   "outputs": [
    {
     "data": {
      "image/png": "[encoded data removed]",
      "text/plain": [
       "<PIL.Image.Image image mode=RGBA size=2000x1000 at 0x7F5E247C3160>"
      ]
     },
     "execution_count": 8,
     "metadata": {},
     "output_type": "execute_result"
    }
   ],
   "source": [
    "construis_la_scene([])"
   ]
  },
  {
   "cell_type": "code",
   "execution_count": 17,
   "id": "a66f11af",
   "metadata": {},
   "outputs": [
    {
     "data": {
      "text/html": [
       "<div>\n",
       "<style scoped>\n",
       "    .dataframe tbody tr th:only-of-type {\n",
       "        vertical-align: middle;\n",
       "    }\n",
       "\n",
       "    .dataframe tbody tr th {\n",
       "        vertical-align: top;\n",
       "    }\n",
       "\n",
       "    .dataframe thead th {\n",
       "        text-align: right;\n",
       "    }\n",
       "</style>\n",
       "<table border=\"1\" class=\"dataframe\">\n",
       "  <thead>\n",
       "    <tr style=\"text-align: right;\">\n",
       "      <th></th>\n",
       "      <th>category</th>\n",
       "      <th>color</th>\n",
       "      <th>size</th>\n",
       "      <th>num</th>\n",
       "      <th>vertical_position</th>\n",
       "      <th>horizontal_position</th>\n",
       "    </tr>\n",
       "  </thead>\n",
       "  <tbody>\n",
       "    <tr>\n",
       "      <th>0</th>\n",
       "      <td>airplane</td>\n",
       "      <td>magenta</td>\n",
       "      <td>small</td>\n",
       "      <td>3</td>\n",
       "      <td>centre</td>\n",
       "      <td>right</td>\n",
       "    </tr>\n",
       "    <tr>\n",
       "      <th>1</th>\n",
       "      <td>airplane</td>\n",
       "      <td>blue</td>\n",
       "      <td>big</td>\n",
       "      <td>1</td>\n",
       "      <td>centre</td>\n",
       "      <td>right</td>\n",
       "    </tr>\n",
       "  </tbody>\n",
       "</table>\n",
       "</div>"
      ],
      "text/plain": [
       "   category    color   size num vertical_position horizontal_position\n",
       "0  airplane  magenta  small   3            centre               right\n",
       "1  airplane     blue    big   1            centre               right"
      ]
     },
     "execution_count": 17,
     "metadata": {},
     "output_type": "execute_result"
    }
   ],
   "source": [
    "df = pd.DataFrame(np.array([['airplane', 'magenta', 'small', 3, 'centre', 'right'],\n",
    "                            #['airplane', 'green', 'medium', 2, 'centre', 'right'],\n",
    "                            ['airplane', 'blue', 'big', 1, 'centre', 'right'],\n",
    "                            ]),\n",
    "                   columns=['category', 'color', 'size', 'num', 'vertical_position', 'horizontal_position'])\n",
    "df"
   ]
  },
  {
   "cell_type": "code",
   "execution_count": 18,
   "id": "b081e28a",
   "metadata": {},
   "outputs": [],
   "source": [
    "old_object = []\n",
    "old_object\n",
    "lst_coords = []"
   ]
  },
  {
   "cell_type": "code",
   "execution_count": 19,
   "id": "b2a08bf3",
   "metadata": {},
   "outputs": [
    {
     "data": {
      "text/plain": [
       "(2000, 1000)"
      ]
     },
     "execution_count": 19,
     "metadata": {},
     "output_type": "execute_result"
    }
   ],
   "source": [
    "scene_size"
   ]
  },
  {
   "cell_type": "code",
   "execution_count": 20,
   "id": "5d357f62",
   "metadata": {},
   "outputs": [],
   "source": [
    "from PIL import ImageDraw"
   ]
  },
  {
   "cell_type": "code",
   "execution_count": 21,
   "id": "6e1f44ea",
   "metadata": {},
   "outputs": [],
   "source": [
    "def check_position(hor_pos, vert_pos, imgwidth, imheight, old_object):\n",
    "    x_min_new = hor_pos\n",
    "    x_max_new = hor_pos + imgwidth\n",
    "    y_min_new = vert_pos\n",
    "    y_max_new = vert_pos + imheight\n",
    "    if old_object:\n",
    "        for elem in old_object:\n",
    "            x_min = elem[0]\n",
    "            x_max = x_min + elem[2]\n",
    "            y_min = elem[1]\n",
    "            y_max = y_min + elem[3]\n",
    "            cond1 = x_min_new <= x_min and x_max_new > x_min \n",
    "            cond2 = x_min_new <= x_max and x_max_new > x_max\n",
    "            cond3 = y_min_new <= y_min and y_max_new > y_min \n",
    "            cond4 = y_min_new <= y_max and y_max_new > y_max\n",
    "            cond5 = x_min_new >= x_min and x_max_new < x_max\n",
    "            cond6 = y_min_new >= y_min and y_max_new < y_max\n",
    "            if (cond1 and (cond3 or cond4 or cond6)) or (cond2 and (cond3 or cond4 or cond6)) \\\n",
    "                or (cond5 and (cond3 or cond4 or cond6)):\n",
    "                return False\n",
    "    return True"
   ]
  },
  {
   "cell_type": "code",
   "execution_count": 22,
   "id": "4142abf3",
   "metadata": {},
   "outputs": [],
   "source": [
    "def df_to_scene(df, scene_size = scene_size):\n",
    "    list_objects = []\n",
    "    list_position = []\n",
    "    vertical_positions = {\n",
    "        'top' : 0,\n",
    "        'centre' : int(scene_size[1]/3),\n",
    "        'bottom' : int(2*scene_size[1]/3)\n",
    "    }\n",
    "    horizontal_positions = {\n",
    "        'left' : 0,\n",
    "        'middle' : int(scene_size[0]/3),\n",
    "        'right' : int(2*scene_size[0]/3)\n",
    "    }\n",
    "    sizes = {\n",
    "        'small' : 1/2,\n",
    "        'medium' : 1,\n",
    "        'big' : 2\n",
    "    }\n",
    "    for index, row in df.iterrows():\n",
    "        print(f'{index},{row}')\n",
    "        for n in range(int(row['num'])):            \n",
    "            category = row['category']\n",
    "            color = row['color']\n",
    "            size = sizes[row['size']]\n",
    "            image = dessine_moi_un(category, color = color, zoom = size)\n",
    "            imgwidth, imgheight = image.size\n",
    "            #position\n",
    "            starthoriz = horizontal_positions[row['horizontal_position']]\n",
    "            stophoriz = starthoriz + (horizontal_positions['middle'] - imgwidth)\n",
    "            startvert = vertical_positions[row['vertical_position']]\n",
    "            stopvert = startvert + (vertical_positions['centre'] - imgheight)\n",
    "            \n",
    "            for _ in range(20):\n",
    "                #check for collision\n",
    "                hor = random.randint(starthoriz,stophoriz)\n",
    "                vert = random.randint(startvert,stopvert)\n",
    "                if check_position(hor, vert, imgwidth, imgheight, old_object):\n",
    "                    #add image and its coordinates to list_objects\n",
    "                    list_objects.append([image, (hor,vert)])\n",
    "                    #lst_coords.append(hor,vert,imgwidth,imgheight)\n",
    "                    #creating a new tuple in the old_object\n",
    "                    print(old_object)\n",
    "                    old_object.append((hor, vert, imgwidth, imgheight))\n",
    "                    break\n",
    "            \n",
    "    scene = construis_la_scene(list_objects, scene_size)\n",
    "    #Les traits noirs\n",
    "    draw = ImageDraw.Draw(scene)\n",
    "    for h in range(scene_size[0]):\n",
    "        draw.point((h,vertical_positions['centre']), fill=\"black\")\n",
    "    for h in range(scene_size[0]):\n",
    "        draw.point((h,vertical_positions['bottom']), fill=\"black\")\n",
    "    for v in range(scene_size[1]):\n",
    "        draw.point((horizontal_positions['middle'], v), fill=\"black\")\n",
    "    for v in range(scene_size[1]):\n",
    "        draw.point((horizontal_positions['right'], v), fill=\"black\")\n",
    "    return scene"
   ]
  },
  {
   "cell_type": "code",
   "execution_count": 23,
   "id": "c0f7df7d",
   "metadata": {
    "scrolled": true
   },
   "outputs": [
    {
     "name": "stdout",
     "output_type": "stream",
     "text": [
      "0,category               airplane\n",
      "color                   magenta\n",
      "size                      small\n",
      "num                           3\n",
      "vertical_position        centre\n",
      "horizontal_position       right\n",
      "Name: 0, dtype: object\n",
      "[]\n",
      "[(1488, 450, 83, 81)]\n",
      "WARNING:tensorflow:5 out of the last 5 calls to <function Model.make_predict_function.<locals>.predict_function at 0x7f5d1caac790> triggered tf.function retracing. Tracing is expensive and the excessive number of tracings could be due to (1) creating @tf.function repeatedly in a loop, (2) passing tensors with different shapes, (3) passing Python objects instead of tensors. For (1), please define your @tf.function outside of the loop. For (2), @tf.function has experimental_relax_shapes=True option that relaxes argument shapes that can avoid unnecessary retracing. For (3), please refer to https://www.tensorflow.org/tutorials/customization/performance#python_or_tensor_args and https://www.tensorflow.org/api_docs/python/tf/function for  more details.\n",
      "[(1488, 450, 83, 81), (1381, 550, 83, 81)]\n",
      "1,category               airplane\n",
      "color                      blue\n",
      "size                        big\n",
      "num                           1\n",
      "vertical_position        centre\n",
      "horizontal_position       right\n",
      "Name: 1, dtype: object\n",
      "WARNING:tensorflow:6 out of the last 6 calls to <function Model.make_predict_function.<locals>.predict_function at 0x7f5cf7e09550> triggered tf.function retracing. Tracing is expensive and the excessive number of tracings could be due to (1) creating @tf.function repeatedly in a loop, (2) passing tensors with different shapes, (3) passing Python objects instead of tensors. For (1), please define your @tf.function outside of the loop. For (2), @tf.function has experimental_relax_shapes=True option that relaxes argument shapes that can avoid unnecessary retracing. For (3), please refer to https://www.tensorflow.org/tutorials/customization/performance#python_or_tensor_args and https://www.tensorflow.org/api_docs/python/tf/function for  more details.\n",
      "CPU times: user 14 s, sys: 795 ms, total: 14.8 s\n",
      "Wall time: 12.2 s\n"
     ]
    },
    {
     "data": {
      "image/png": "[encoded data removed]",
      "text/plain": [
       "<Figure size 108x108 with 1 Axes>"
      ]
     },
     "metadata": {
      "image/png": {
       "height": 81,
       "width": 83
      }
     },
     "output_type": "display_data"
    },
    {
     "data": {
      "image/png": "[encoded data removed]",
      "text/plain": [
       "<Figure size 108x108 with 1 Axes>"
      ]
     },
     "metadata": {
      "image/png": {
       "height": 81,
       "width": 83
      }
     },
     "output_type": "display_data"
    },
    {
     "data": {
      "image/png": "[encoded data removed]",
      "text/plain": [
       "<Figure size 108x108 with 1 Axes>"
      ]
     },
     "metadata": {
      "image/png": {
       "height": 81,
       "width": 83
      }
     },
     "output_type": "display_data"
    },
    {
     "data": {
      "image/png": "[encoded data removed]",
      "text/plain": [
       "<Figure size 432x432 with 1 Axes>"
      ]
     },
     "metadata": {
      "image/png": {
       "height": 326,
       "width": 334
      }
     },
     "output_type": "display_data"
    }
   ],
   "source": [
    "%%time\n",
    "scene = df_to_scene(df)"
   ]
  },
  {
   "cell_type": "code",
   "execution_count": 24,
   "id": "0ed5a075",
   "metadata": {},
   "outputs": [
    {
     "data": {
      "image/png": "[encoded data removed]",
      "text/plain": [
       "<PIL.Image.Image image mode=RGBA size=2000x1000 at 0x7F5D5C5E3D60>"
      ]
     },
     "execution_count": 24,
     "metadata": {},
     "output_type": "execute_result"
    }
   ],
   "source": [
    "scene"
   ]
  },
  {
   "cell_type": "code",
   "execution_count": null,
   "id": "0109a896",
   "metadata": {
    "scrolled": true
   },
   "outputs": [],
   "source": [
    "scene1 = df_to_scene(df)\n",
    "scene2 = df_to_scene(df)"
   ]
  },
  {
   "cell_type": "code",
   "execution_count": null,
   "id": "f7a3f95d",
   "metadata": {},
   "outputs": [],
   "source": [
    "scene1"
   ]
  },
  {
   "cell_type": "code",
   "execution_count": null,
   "id": "b0dbd0bb",
   "metadata": {},
   "outputs": [],
   "source": [
    "scene2"
   ]
  },
  {
   "cell_type": "code",
   "execution_count": null,
   "id": "d2ea23cb",
   "metadata": {},
   "outputs": [],
   "source": [
    "final2 = Image.new(\"RGBA\", scene1.size)\n",
    "final2 = Image.alpha_composite(final2, scene1)\n",
    "final2 = Image.alpha_composite(final2, scene2)"
   ]
  },
  {
   "cell_type": "code",
   "execution_count": null,
   "id": "7921c2b3",
   "metadata": {},
   "outputs": [],
   "source": []
  },
  {
   "cell_type": "code",
   "execution_count": null,
   "id": "4cf330a7",
   "metadata": {},
   "outputs": [],
   "source": []
  }
 ],
 "metadata": {
  "kernelspec": {
   "display_name": "Python 3 (ipykernel)",
   "language": "python",
   "name": "python3"
  },
  "language_info": {
   "codemirror_mode": {
    "name": "ipython",
    "version": 3
   },
   "file_extension": ".py",
   "mimetype": "text/x-python",
   "name": "python",
   "nbconvert_exporter": "python",
   "pygments_lexer": "ipython3",
   "version": "3.8.6"
  },
  "toc": {
   "base_numbering": 1,
   "nav_menu": {},
   "number_sections": true,
   "sideBar": true,
   "skip_h1_title": false,
   "title_cell": "Table of Contents",
   "title_sidebar": "Contents",
   "toc_cell": false,
   "toc_position": {},
   "toc_section_display": true,
   "toc_window_display": false
  }
 },
 "nbformat": 4,
 "nbformat_minor": 5
}
