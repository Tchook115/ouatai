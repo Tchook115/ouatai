{
 "cells": [
  {
   "cell_type": "code",
   "execution_count": 7,
   "id": "c2dcdc66",
   "metadata": {},
   "outputs": [],
   "source": [
    "import rasa\n",
    "import nest_asyncio\n",
    "\n",
    "nest_asyncio.apply()"
   ]
  },
  {
   "cell_type": "code",
   "execution_count": 8,
   "id": "6a5d6c7a",
   "metadata": {},
   "outputs": [],
   "source": [
    "from rasa.jupyter import chat"
   ]
  },
  {
   "cell_type": "code",
   "execution_count": 9,
   "id": "91d844b3",
   "metadata": {},
   "outputs": [
    {
     "data": {
      "text/plain": [
       "'2.8.4'"
      ]
     },
     "execution_count": 9,
     "metadata": {},
     "output_type": "execute_result"
    }
   ],
   "source": [
    "rasa.__version__"
   ]
  },
  {
   "cell_type": "code",
   "execution_count": 12,
   "id": "e4bd8076",
   "metadata": {},
   "outputs": [
    {
     "data": {
      "text/plain": [
       "'/home/tchook/code/Tchook115/ouatai/rasa-ouatai'"
      ]
     },
     "execution_count": 12,
     "metadata": {},
     "output_type": "execute_result"
    }
   ],
   "source": [
    "pwd"
   ]
  },
  {
   "cell_type": "code",
   "execution_count": 10,
   "id": "c2b36e2b",
   "metadata": {},
   "outputs": [
    {
     "name": "stdout",
     "output_type": "stream",
     "text": [
      "config.yml data/ domain.yml models/\n"
     ]
    }
   ],
   "source": [
    "config = \"config.yml\"\n",
    "training_files = \"data/\"\n",
    "domain = \"domain.yml\"\n",
    "output = \"models/\"\n",
    "print(config, training_files, domain, output)"
   ]
  },
  {
   "cell_type": "code",
   "execution_count": 11,
   "id": "ea661e31",
   "metadata": {},
   "outputs": [
    {
     "name": "stdout",
     "output_type": "stream",
     "text": [
      "\u001b[94mThe configuration for pipeline and policies was chosen automatically. It was written into the config file at 'config.yml'.\u001b[0m\n"
     ]
    },
    {
     "name": "stderr",
     "output_type": "stream",
     "text": [
      "\u001b[93m/home/tchook/.pyenv/versions/3.8.6/envs/ouatai/lib/python3.8/site-packages/rasa/shared/utils/io.py:97: UserWarning: Issue found in 'data/rules.yml': \n",
      "Found intent 'goodbye' in stories which is not part of the domain.\n",
      "  More info at https://rasa.com/docs/rasa/stories\n",
      "\u001b[0m\u001b[93m/home/tchook/.pyenv/versions/3.8.6/envs/ouatai/lib/python3.8/site-packages/rasa/shared/utils/io.py:97: UserWarning: Issue found in 'data/rules.yml': \n",
      "Found intent 'bot_challenge' in stories which is not part of the domain.\n",
      "  More info at https://rasa.com/docs/rasa/stories\n",
      "\u001b[0m\u001b[93m/home/tchook/.pyenv/versions/3.8.6/envs/ouatai/lib/python3.8/site-packages/rasa/shared/utils/io.py:97: UserWarning: Issue found in 'data/stories.yml': \n",
      "Found intent 'greet' in stories which is not part of the domain.\n",
      "  More info at https://rasa.com/docs/rasa/stories\n",
      "\u001b[0m\u001b[93m/home/tchook/.pyenv/versions/3.8.6/envs/ouatai/lib/python3.8/site-packages/rasa/shared/utils/io.py:97: UserWarning: Issue found in 'data/stories.yml': \n",
      "Found intent 'mood_great' in stories which is not part of the domain.\n",
      "  More info at https://rasa.com/docs/rasa/stories\n",
      "\u001b[0m\u001b[93m/home/tchook/.pyenv/versions/3.8.6/envs/ouatai/lib/python3.8/site-packages/rasa/shared/utils/io.py:97: UserWarning: Issue found in 'data/stories.yml': \n",
      "Found intent 'mood_unhappy' in stories which is not part of the domain.\n",
      "  More info at https://rasa.com/docs/rasa/stories\n",
      "\u001b[0m\u001b[93m/home/tchook/.pyenv/versions/3.8.6/envs/ouatai/lib/python3.8/site-packages/rasa/shared/utils/io.py:97: UserWarning: Issue found in 'data/stories.yml': \n",
      "Found intent 'affirm' in stories which is not part of the domain.\n",
      "  More info at https://rasa.com/docs/rasa/stories\n",
      "\u001b[0m\u001b[93m/home/tchook/.pyenv/versions/3.8.6/envs/ouatai/lib/python3.8/site-packages/rasa/shared/utils/io.py:97: UserWarning: Issue found in 'data/stories.yml': \n",
      "Found intent 'deny' in stories which is not part of the domain.\n",
      "  More info at https://rasa.com/docs/rasa/stories\n",
      "\u001b[0m"
     ]
    },
    {
     "name": "stdout",
     "output_type": "stream",
     "text": [
      "\u001b[94mTraining NLU model...\u001b[0m\n"
     ]
    },
    {
     "name": "stderr",
     "output_type": "stream",
     "text": [
      "2021-09-03 13:35:12.569728: W tensorflow/stream_executor/platform/default/dso_loader.cc:59] Could not load dynamic library 'libcuda.so.1'; dlerror: libcuda.so.1: cannot open shared object file: No such file or directory\n",
      "2021-09-03 13:35:12.569812: W tensorflow/stream_executor/cuda/cuda_driver.cc:312] failed call to cuInit: UNKNOWN ERROR (303)\n",
      "2021-09-03 13:35:12.569833: I tensorflow/stream_executor/cuda/cuda_diagnostics.cc:156] kernel driver does not appear to be running on this host (DESKTOP-DMP59NS): /proc/driver/nvidia/version does not exist\n",
      "2021-09-03 13:35:12.570079: I tensorflow/core/platform/cpu_feature_guard.cc:142] This TensorFlow binary is optimized with oneAPI Deep Neural Network Library (oneDNN)to use the following CPU instructions in performance-critical operations:  AVX2 FMA\n",
      "To enable them in other operations, rebuild TensorFlow with the appropriate compiler flags.\n",
      "2021-09-03 13:35:12.577346: I tensorflow/core/platform/profile_utils/cpu_utils.cc:104] CPU Frequency: 1800005000 Hz\n",
      "2021-09-03 13:35:12.578318: I tensorflow/compiler/xla/service/service.cc:168] XLA service 0x55dd67260810 initialized for platform Host (this does not guarantee that XLA will be used). Devices:\n",
      "2021-09-03 13:35:12.578333: I tensorflow/compiler/xla/service/service.cc:176]   StreamExecutor device (0): Host, Default Version\n",
      "Epochs: 100%|██████████████████████████████████████████████████| 100/100 [00:14<00:00,  6.86it/s, t_loss=0.953, i_acc=1]\n"
     ]
    },
    {
     "name": "stdout",
     "output_type": "stream",
     "text": [
      "\u001b[94mNLU model training completed.\u001b[0m\n",
      "\u001b[94mTraining Core model...\u001b[0m\n"
     ]
    },
    {
     "name": "stderr",
     "output_type": "stream",
     "text": [
      "Processed story blocks: 100%|██████████████████████████████████████████████| 3/3 [00:00<00:00, 743.63it/s, # trackers=1]\n",
      "Processed story blocks: 100%|██████████████████████████████████████████████| 3/3 [00:00<00:00, 383.12it/s, # trackers=3]\n",
      "Processed story blocks: 100%|█████████████████████████████████████████████| 3/3 [00:00<00:00, 192.02it/s, # trackers=12]\n",
      "Processed story blocks: 100%|██████████████████████████████████████████████| 3/3 [00:00<00:00, 61.49it/s, # trackers=39]\n",
      "Processed rules: 100%|█████████████████████████████████████████████████████| 2/2 [00:00<00:00, 990.62it/s, # trackers=1]\n",
      "Processed trackers: 100%|███████████████████████████████████████████████████| 3/3 [00:00<00:00, 244.90it/s, # action=12]\n",
      "Processed actions: 12it [00:00, 1138.75it/s, # examples=12]\n",
      "Processed trackers: 100%|████████████████████████████████████████████████████| 2/2 [00:00<00:00, 595.49it/s, # action=5]\n",
      "Processed actions: 5it [00:00, 1240.04it/s, # examples=4]\n",
      "Processed trackers: 100%|███████████████████████████████████████████████████| 3/3 [00:00<00:00, 246.96it/s, # action=12]\n",
      "Processed trackers: 100%|███████████████████████████████████████████████████████████████| 2/2 [00:00<00:00, 1682.77it/s]\n",
      "Processed trackers: 100%|███████████████████████████████████████████████████████████████| 5/5 [00:00<00:00, 1359.32it/s]\n",
      "Processed trackers: 100%|██████████████████████████████████████████████| 120/120 [00:00<00:00, 2778.51it/s, # intent=12]\n"
     ]
    },
    {
     "ename": "ValueError",
     "evalue": "'greet' is not in list",
     "output_type": "error",
     "traceback": [
      "\u001b[0;31m---------------------------------------------------------------------------\u001b[0m",
      "\u001b[0;31mValueError\u001b[0m                                Traceback (most recent call last)",
      "\u001b[0;32m/tmp/ipykernel_11774/3357808046.py\u001b[0m in \u001b[0;36m<module>\u001b[0;34m\u001b[0m\n\u001b[0;32m----> 1\u001b[0;31m \u001b[0mmodel_path\u001b[0m \u001b[0;34m=\u001b[0m \u001b[0mrasa\u001b[0m\u001b[0;34m.\u001b[0m\u001b[0mtrain\u001b[0m\u001b[0;34m(\u001b[0m\u001b[0mdomain\u001b[0m\u001b[0;34m,\u001b[0m \u001b[0mconfig\u001b[0m\u001b[0;34m,\u001b[0m \u001b[0;34m[\u001b[0m\u001b[0mtraining_files\u001b[0m\u001b[0;34m]\u001b[0m\u001b[0;34m,\u001b[0m \u001b[0moutput\u001b[0m\u001b[0;34m)\u001b[0m\u001b[0;34m\u001b[0m\u001b[0;34m\u001b[0m\u001b[0m\n\u001b[0m\u001b[1;32m      2\u001b[0m \u001b[0mprint\u001b[0m\u001b[0;34m(\u001b[0m\u001b[0mmodel_path\u001b[0m\u001b[0;34m)\u001b[0m\u001b[0;34m\u001b[0m\u001b[0;34m\u001b[0m\u001b[0m\n",
      "\u001b[0;32m~/.pyenv/versions/3.8.6/envs/ouatai/lib/python3.8/site-packages/rasa/api.py\u001b[0m in \u001b[0;36mtrain\u001b[0;34m(domain, config, training_files, output, dry_run, force_training, fixed_model_name, persist_nlu_training_data, core_additional_arguments, nlu_additional_arguments, loop, model_to_finetune, finetuning_epoch_fraction)\u001b[0m\n\u001b[1;32m    107\u001b[0m     \u001b[0;32mimport\u001b[0m \u001b[0mrasa\u001b[0m\u001b[0;34m.\u001b[0m\u001b[0mutils\u001b[0m\u001b[0;34m.\u001b[0m\u001b[0mcommon\u001b[0m\u001b[0;34m\u001b[0m\u001b[0;34m\u001b[0m\u001b[0m\n\u001b[1;32m    108\u001b[0m \u001b[0;34m\u001b[0m\u001b[0m\n\u001b[0;32m--> 109\u001b[0;31m     return rasa.utils.common.run_in_loop(\n\u001b[0m\u001b[1;32m    110\u001b[0m         train_async(\n\u001b[1;32m    111\u001b[0m             \u001b[0mdomain\u001b[0m\u001b[0;34m=\u001b[0m\u001b[0mdomain\u001b[0m\u001b[0;34m,\u001b[0m\u001b[0;34m\u001b[0m\u001b[0;34m\u001b[0m\u001b[0m\n",
      "\u001b[0;32m~/.pyenv/versions/3.8.6/envs/ouatai/lib/python3.8/site-packages/rasa/utils/common.py\u001b[0m in \u001b[0;36mrun_in_loop\u001b[0;34m(f, loop)\u001b[0m\n\u001b[1;32m    294\u001b[0m             \u001b[0mloop\u001b[0m \u001b[0;34m=\u001b[0m \u001b[0masyncio\u001b[0m\u001b[0;34m.\u001b[0m\u001b[0mnew_event_loop\u001b[0m\u001b[0;34m(\u001b[0m\u001b[0;34m)\u001b[0m\u001b[0;34m\u001b[0m\u001b[0;34m\u001b[0m\u001b[0m\n\u001b[1;32m    295\u001b[0m             \u001b[0masyncio\u001b[0m\u001b[0;34m.\u001b[0m\u001b[0mset_event_loop\u001b[0m\u001b[0;34m(\u001b[0m\u001b[0mloop\u001b[0m\u001b[0;34m)\u001b[0m\u001b[0;34m\u001b[0m\u001b[0;34m\u001b[0m\u001b[0m\n\u001b[0;32m--> 296\u001b[0;31m     \u001b[0mresult\u001b[0m \u001b[0;34m=\u001b[0m \u001b[0mloop\u001b[0m\u001b[0;34m.\u001b[0m\u001b[0mrun_until_complete\u001b[0m\u001b[0;34m(\u001b[0m\u001b[0mf\u001b[0m\u001b[0;34m)\u001b[0m\u001b[0;34m\u001b[0m\u001b[0;34m\u001b[0m\u001b[0m\n\u001b[0m\u001b[1;32m    297\u001b[0m \u001b[0;34m\u001b[0m\u001b[0m\n\u001b[1;32m    298\u001b[0m     \u001b[0;31m# Let's also finish all running tasks:\u001b[0m\u001b[0;34m\u001b[0m\u001b[0;34m\u001b[0m\u001b[0;34m\u001b[0m\u001b[0m\n",
      "\u001b[0;32m~/.pyenv/versions/3.8.6/envs/ouatai/lib/python3.8/site-packages/nest_asyncio.py\u001b[0m in \u001b[0;36mrun_until_complete\u001b[0;34m(self, future)\u001b[0m\n\u001b[1;32m     68\u001b[0m                 raise RuntimeError(\n\u001b[1;32m     69\u001b[0m                     'Event loop stopped before Future completed.')\n\u001b[0;32m---> 70\u001b[0;31m             \u001b[0;32mreturn\u001b[0m \u001b[0mf\u001b[0m\u001b[0;34m.\u001b[0m\u001b[0mresult\u001b[0m\u001b[0;34m(\u001b[0m\u001b[0;34m)\u001b[0m\u001b[0;34m\u001b[0m\u001b[0;34m\u001b[0m\u001b[0m\n\u001b[0m\u001b[1;32m     71\u001b[0m \u001b[0;34m\u001b[0m\u001b[0m\n\u001b[1;32m     72\u001b[0m     \u001b[0;32mdef\u001b[0m \u001b[0m_run_once\u001b[0m\u001b[0;34m(\u001b[0m\u001b[0mself\u001b[0m\u001b[0;34m)\u001b[0m\u001b[0;34m:\u001b[0m\u001b[0;34m\u001b[0m\u001b[0;34m\u001b[0m\u001b[0m\n",
      "\u001b[0;32m~/.pyenv/versions/3.8.6/lib/python3.8/asyncio/futures.py\u001b[0m in \u001b[0;36mresult\u001b[0;34m(self)\u001b[0m\n\u001b[1;32m    176\u001b[0m         \u001b[0mself\u001b[0m\u001b[0;34m.\u001b[0m\u001b[0m__log_traceback\u001b[0m \u001b[0;34m=\u001b[0m \u001b[0;32mFalse\u001b[0m\u001b[0;34m\u001b[0m\u001b[0;34m\u001b[0m\u001b[0m\n\u001b[1;32m    177\u001b[0m         \u001b[0;32mif\u001b[0m \u001b[0mself\u001b[0m\u001b[0;34m.\u001b[0m\u001b[0m_exception\u001b[0m \u001b[0;32mis\u001b[0m \u001b[0;32mnot\u001b[0m \u001b[0;32mNone\u001b[0m\u001b[0;34m:\u001b[0m\u001b[0;34m\u001b[0m\u001b[0;34m\u001b[0m\u001b[0m\n\u001b[0;32m--> 178\u001b[0;31m             \u001b[0;32mraise\u001b[0m \u001b[0mself\u001b[0m\u001b[0;34m.\u001b[0m\u001b[0m_exception\u001b[0m\u001b[0;34m\u001b[0m\u001b[0;34m\u001b[0m\u001b[0m\n\u001b[0m\u001b[1;32m    179\u001b[0m         \u001b[0;32mreturn\u001b[0m \u001b[0mself\u001b[0m\u001b[0;34m.\u001b[0m\u001b[0m_result\u001b[0m\u001b[0;34m\u001b[0m\u001b[0;34m\u001b[0m\u001b[0m\n\u001b[1;32m    180\u001b[0m \u001b[0;34m\u001b[0m\u001b[0m\n",
      "\u001b[0;32m~/.pyenv/versions/3.8.6/lib/python3.8/asyncio/tasks.py\u001b[0m in \u001b[0;36m__step\u001b[0;34m(***failed resolving arguments***)\u001b[0m\n\u001b[1;32m    278\u001b[0m                 \u001b[0;31m# We use the `send` method directly, because coroutines\u001b[0m\u001b[0;34m\u001b[0m\u001b[0;34m\u001b[0m\u001b[0;34m\u001b[0m\u001b[0m\n\u001b[1;32m    279\u001b[0m                 \u001b[0;31m# don't have `__iter__` and `__next__` methods.\u001b[0m\u001b[0;34m\u001b[0m\u001b[0;34m\u001b[0m\u001b[0;34m\u001b[0m\u001b[0m\n\u001b[0;32m--> 280\u001b[0;31m                 \u001b[0mresult\u001b[0m \u001b[0;34m=\u001b[0m \u001b[0mcoro\u001b[0m\u001b[0;34m.\u001b[0m\u001b[0msend\u001b[0m\u001b[0;34m(\u001b[0m\u001b[0;32mNone\u001b[0m\u001b[0;34m)\u001b[0m\u001b[0;34m\u001b[0m\u001b[0;34m\u001b[0m\u001b[0m\n\u001b[0m\u001b[1;32m    281\u001b[0m             \u001b[0;32melse\u001b[0m\u001b[0;34m:\u001b[0m\u001b[0;34m\u001b[0m\u001b[0;34m\u001b[0m\u001b[0m\n\u001b[1;32m    282\u001b[0m                 \u001b[0mresult\u001b[0m \u001b[0;34m=\u001b[0m \u001b[0mcoro\u001b[0m\u001b[0;34m.\u001b[0m\u001b[0mthrow\u001b[0m\u001b[0;34m(\u001b[0m\u001b[0mexc\u001b[0m\u001b[0;34m)\u001b[0m\u001b[0;34m\u001b[0m\u001b[0;34m\u001b[0m\u001b[0m\n",
      "\u001b[0;32m~/.pyenv/versions/3.8.6/envs/ouatai/lib/python3.8/site-packages/rasa/model_training.py\u001b[0m in \u001b[0;36mtrain_async\u001b[0;34m(domain, config, training_files, output, dry_run, force_training, fixed_model_name, persist_nlu_training_data, core_additional_arguments, nlu_additional_arguments, model_to_finetune, finetuning_epoch_fraction)\u001b[0m\n\u001b[1;32m    106\u001b[0m             \u001b[0;32mreturn\u001b[0m \u001b[0mTrainingResult\u001b[0m\u001b[0;34m(\u001b[0m\u001b[0mmodel\u001b[0m\u001b[0;34m=\u001b[0m\u001b[0mnlu_model\u001b[0m\u001b[0;34m)\u001b[0m\u001b[0;34m\u001b[0m\u001b[0;34m\u001b[0m\u001b[0m\n\u001b[1;32m    107\u001b[0m \u001b[0;34m\u001b[0m\u001b[0m\n\u001b[0;32m--> 108\u001b[0;31m         return await _train_async_internal(\n\u001b[0m\u001b[1;32m    109\u001b[0m             \u001b[0mfile_importer\u001b[0m\u001b[0;34m,\u001b[0m\u001b[0;34m\u001b[0m\u001b[0;34m\u001b[0m\u001b[0m\n\u001b[1;32m    110\u001b[0m             \u001b[0mtrain_path\u001b[0m\u001b[0;34m,\u001b[0m\u001b[0;34m\u001b[0m\u001b[0;34m\u001b[0m\u001b[0m\n",
      "\u001b[0;32m~/.pyenv/versions/3.8.6/envs/ouatai/lib/python3.8/site-packages/rasa/model_training.py\u001b[0m in \u001b[0;36m_train_async_internal\u001b[0;34m(file_importer, train_path, output_path, dry_run, force_training, fixed_model_name, persist_nlu_training_data, core_additional_arguments, nlu_additional_arguments, model_to_finetune, finetuning_epoch_fraction)\u001b[0m\n\u001b[1;32m    286\u001b[0m             \u001b[0mfile_importer\u001b[0m\u001b[0;34m,\u001b[0m \u001b[0mmodel_type\u001b[0m\u001b[0;34m=\u001b[0m\u001b[0;34m\"rasa\"\u001b[0m\u001b[0;34m,\u001b[0m\u001b[0;34m\u001b[0m\u001b[0;34m\u001b[0m\u001b[0m\n\u001b[1;32m    287\u001b[0m         ):\n\u001b[0;32m--> 288\u001b[0;31m             await _do_training(\n\u001b[0m\u001b[1;32m    289\u001b[0m                 \u001b[0mfile_importer\u001b[0m\u001b[0;34m,\u001b[0m\u001b[0;34m\u001b[0m\u001b[0;34m\u001b[0m\u001b[0m\n\u001b[1;32m    290\u001b[0m                 \u001b[0moutput_path\u001b[0m\u001b[0;34m=\u001b[0m\u001b[0moutput_path\u001b[0m\u001b[0;34m,\u001b[0m\u001b[0;34m\u001b[0m\u001b[0;34m\u001b[0m\u001b[0m\n",
      "\u001b[0;32m~/.pyenv/versions/3.8.6/envs/ouatai/lib/python3.8/site-packages/rasa/model_training.py\u001b[0m in \u001b[0;36m_do_training\u001b[0;34m(file_importer, output_path, train_path, fingerprint_comparison_result, fixed_model_name, persist_nlu_training_data, core_additional_arguments, nlu_additional_arguments, old_model_zip_path, model_to_finetune, finetuning_epoch_fraction)\u001b[0m\n\u001b[1;32m    350\u001b[0m \u001b[0;34m\u001b[0m\u001b[0m\n\u001b[1;32m    351\u001b[0m     \u001b[0;32mif\u001b[0m \u001b[0mfingerprint_comparison_result\u001b[0m\u001b[0;34m.\u001b[0m\u001b[0mshould_retrain_core\u001b[0m\u001b[0;34m(\u001b[0m\u001b[0;34m)\u001b[0m\u001b[0;34m:\u001b[0m\u001b[0;34m\u001b[0m\u001b[0;34m\u001b[0m\u001b[0m\n\u001b[0;32m--> 352\u001b[0;31m         await _train_core_with_validated_data(\n\u001b[0m\u001b[1;32m    353\u001b[0m             \u001b[0mfile_importer\u001b[0m\u001b[0;34m,\u001b[0m\u001b[0;34m\u001b[0m\u001b[0;34m\u001b[0m\u001b[0m\n\u001b[1;32m    354\u001b[0m             \u001b[0moutput\u001b[0m\u001b[0;34m=\u001b[0m\u001b[0moutput_path\u001b[0m\u001b[0;34m,\u001b[0m\u001b[0;34m\u001b[0m\u001b[0;34m\u001b[0m\u001b[0m\n",
      "\u001b[0;32m~/.pyenv/versions/3.8.6/envs/ouatai/lib/python3.8/site-packages/rasa/model_training.py\u001b[0m in \u001b[0;36m_train_core_with_validated_data\u001b[0;34m(file_importer, output, train_path, fixed_model_name, additional_arguments, interpreter, model_to_finetune, finetuning_epoch_fraction)\u001b[0m\n\u001b[1;32m    547\u001b[0m             \u001b[0mis_finetuning\u001b[0m\u001b[0;34m=\u001b[0m\u001b[0mmodel_to_finetune\u001b[0m \u001b[0;32mis\u001b[0m \u001b[0;32mnot\u001b[0m \u001b[0;32mNone\u001b[0m\u001b[0;34m,\u001b[0m\u001b[0;34m\u001b[0m\u001b[0;34m\u001b[0m\u001b[0m\n\u001b[1;32m    548\u001b[0m         ):\n\u001b[0;32m--> 549\u001b[0;31m             await rasa.core.train.train(\n\u001b[0m\u001b[1;32m    550\u001b[0m                 \u001b[0mdomain_file\u001b[0m\u001b[0;34m=\u001b[0m\u001b[0mdomain\u001b[0m\u001b[0;34m,\u001b[0m\u001b[0;34m\u001b[0m\u001b[0;34m\u001b[0m\u001b[0m\n\u001b[1;32m    551\u001b[0m                 \u001b[0mtraining_resource\u001b[0m\u001b[0;34m=\u001b[0m\u001b[0mfile_importer\u001b[0m\u001b[0;34m,\u001b[0m\u001b[0;34m\u001b[0m\u001b[0;34m\u001b[0m\u001b[0m\n",
      "\u001b[0;32m~/.pyenv/versions/3.8.6/envs/ouatai/lib/python3.8/site-packages/rasa/core/train.py\u001b[0m in \u001b[0;36mtrain\u001b[0;34m(domain_file, training_resource, output_path, interpreter, endpoints, policy_config, exclusion_percentage, additional_arguments, model_to_finetune)\u001b[0m\n\u001b[1;32m     68\u001b[0m     \u001b[0;32mif\u001b[0m \u001b[0mmodel_to_finetune\u001b[0m\u001b[0;34m:\u001b[0m\u001b[0;34m\u001b[0m\u001b[0;34m\u001b[0m\u001b[0m\n\u001b[1;32m     69\u001b[0m         \u001b[0magent\u001b[0m\u001b[0;34m.\u001b[0m\u001b[0mpolicy_ensemble\u001b[0m \u001b[0;34m=\u001b[0m \u001b[0mmodel_to_finetune\u001b[0m\u001b[0;34m.\u001b[0m\u001b[0mpolicy_ensemble\u001b[0m\u001b[0;34m\u001b[0m\u001b[0;34m\u001b[0m\u001b[0m\n\u001b[0;32m---> 70\u001b[0;31m     \u001b[0magent\u001b[0m\u001b[0;34m.\u001b[0m\u001b[0mtrain\u001b[0m\u001b[0;34m(\u001b[0m\u001b[0mtraining_data\u001b[0m\u001b[0;34m,\u001b[0m \u001b[0;34m**\u001b[0m\u001b[0madditional_arguments\u001b[0m\u001b[0;34m)\u001b[0m\u001b[0;34m\u001b[0m\u001b[0;34m\u001b[0m\u001b[0m\n\u001b[0m\u001b[1;32m     71\u001b[0m     \u001b[0magent\u001b[0m\u001b[0;34m.\u001b[0m\u001b[0mpersist\u001b[0m\u001b[0;34m(\u001b[0m\u001b[0moutput_path\u001b[0m\u001b[0;34m)\u001b[0m\u001b[0;34m\u001b[0m\u001b[0;34m\u001b[0m\u001b[0m\n\u001b[1;32m     72\u001b[0m \u001b[0;34m\u001b[0m\u001b[0m\n",
      "\u001b[0;32m~/.pyenv/versions/3.8.6/envs/ouatai/lib/python3.8/site-packages/rasa/core/agent.py\u001b[0m in \u001b[0;36mtrain\u001b[0;34m(self, training_trackers, **kwargs)\u001b[0m\n\u001b[1;32m    751\u001b[0m         \u001b[0mlogger\u001b[0m\u001b[0;34m.\u001b[0m\u001b[0mdebug\u001b[0m\u001b[0;34m(\u001b[0m\u001b[0;34mf\"Agent trainer got kwargs: {kwargs}\"\u001b[0m\u001b[0;34m)\u001b[0m\u001b[0;34m\u001b[0m\u001b[0;34m\u001b[0m\u001b[0m\n\u001b[1;32m    752\u001b[0m \u001b[0;34m\u001b[0m\u001b[0m\n\u001b[0;32m--> 753\u001b[0;31m         self.policy_ensemble.train(\n\u001b[0m\u001b[1;32m    754\u001b[0m             \u001b[0mtraining_trackers\u001b[0m\u001b[0;34m,\u001b[0m \u001b[0mself\u001b[0m\u001b[0;34m.\u001b[0m\u001b[0mdomain\u001b[0m\u001b[0;34m,\u001b[0m \u001b[0minterpreter\u001b[0m\u001b[0;34m=\u001b[0m\u001b[0mself\u001b[0m\u001b[0;34m.\u001b[0m\u001b[0minterpreter\u001b[0m\u001b[0;34m,\u001b[0m \u001b[0;34m**\u001b[0m\u001b[0mkwargs\u001b[0m\u001b[0;34m\u001b[0m\u001b[0;34m\u001b[0m\u001b[0m\n\u001b[1;32m    755\u001b[0m         )\n",
      "\u001b[0;32m~/.pyenv/versions/3.8.6/envs/ouatai/lib/python3.8/site-packages/rasa/core/policies/ensemble.py\u001b[0m in \u001b[0;36mtrain\u001b[0;34m(self, training_trackers, domain, interpreter, **kwargs)\u001b[0m\n\u001b[1;32m    204\u001b[0m                     \u001b[0mpolicy\u001b[0m\u001b[0;34m,\u001b[0m \u001b[0mtraining_trackers\u001b[0m\u001b[0;34m\u001b[0m\u001b[0;34m\u001b[0m\u001b[0m\n\u001b[1;32m    205\u001b[0m                 )\n\u001b[0;32m--> 206\u001b[0;31m                 policy.train(\n\u001b[0m\u001b[1;32m    207\u001b[0m                     \u001b[0mtrackers_to_train\u001b[0m\u001b[0;34m,\u001b[0m \u001b[0mdomain\u001b[0m\u001b[0;34m,\u001b[0m \u001b[0minterpreter\u001b[0m\u001b[0;34m=\u001b[0m\u001b[0minterpreter\u001b[0m\u001b[0;34m,\u001b[0m \u001b[0;34m**\u001b[0m\u001b[0mkwargs\u001b[0m\u001b[0;34m\u001b[0m\u001b[0;34m\u001b[0m\u001b[0m\n\u001b[1;32m    208\u001b[0m                 )\n",
      "\u001b[0;32m~/.pyenv/versions/3.8.6/envs/ouatai/lib/python3.8/site-packages/rasa/core/policies/ted_policy.py\u001b[0m in \u001b[0;36mtrain\u001b[0;34m(self, training_trackers, domain, interpreter, **kwargs)\u001b[0m\n\u001b[1;32m    690\u001b[0m             \u001b[0;32mreturn\u001b[0m\u001b[0;34m\u001b[0m\u001b[0;34m\u001b[0m\u001b[0m\n\u001b[1;32m    691\u001b[0m \u001b[0;34m\u001b[0m\u001b[0m\n\u001b[0;32m--> 692\u001b[0;31m         model_data, label_ids = self._prepare_for_training(\n\u001b[0m\u001b[1;32m    693\u001b[0m             \u001b[0mtraining_trackers\u001b[0m\u001b[0;34m,\u001b[0m \u001b[0mdomain\u001b[0m\u001b[0;34m,\u001b[0m \u001b[0minterpreter\u001b[0m\u001b[0;34m,\u001b[0m \u001b[0;34m**\u001b[0m\u001b[0mkwargs\u001b[0m\u001b[0;34m\u001b[0m\u001b[0;34m\u001b[0m\u001b[0m\n\u001b[1;32m    694\u001b[0m         )\n",
      "\u001b[0;32m~/.pyenv/versions/3.8.6/envs/ouatai/lib/python3.8/site-packages/rasa/core/policies/ted_policy.py\u001b[0m in \u001b[0;36m_prepare_for_training\u001b[0;34m(self, trackers, domain, interpreter, **kwargs)\u001b[0m\n\u001b[1;32m    584\u001b[0m         \u001b[0mtraining_trackers\u001b[0m \u001b[0;34m=\u001b[0m \u001b[0mself\u001b[0m\u001b[0;34m.\u001b[0m\u001b[0m_get_trackers_for_training\u001b[0m\u001b[0;34m(\u001b[0m\u001b[0mtrackers\u001b[0m\u001b[0;34m)\u001b[0m\u001b[0;34m\u001b[0m\u001b[0;34m\u001b[0m\u001b[0m\n\u001b[1;32m    585\u001b[0m         \u001b[0;31m# dealing with training data\u001b[0m\u001b[0;34m\u001b[0m\u001b[0;34m\u001b[0m\u001b[0;34m\u001b[0m\u001b[0m\n\u001b[0;32m--> 586\u001b[0;31m         tracker_state_features, label_ids, entity_tags = self._featurize_for_training(\n\u001b[0m\u001b[1;32m    587\u001b[0m             \u001b[0mtraining_trackers\u001b[0m\u001b[0;34m,\u001b[0m\u001b[0;34m\u001b[0m\u001b[0;34m\u001b[0m\u001b[0m\n\u001b[1;32m    588\u001b[0m             \u001b[0mdomain\u001b[0m\u001b[0;34m,\u001b[0m\u001b[0;34m\u001b[0m\u001b[0;34m\u001b[0m\u001b[0m\n",
      "\u001b[0;32m~/.pyenv/versions/3.8.6/envs/ouatai/lib/python3.8/site-packages/rasa/core/policies/policy.py\u001b[0m in \u001b[0;36m_featurize_for_training\u001b[0;34m(self, training_trackers, domain, interpreter, bilou_tagging, **kwargs)\u001b[0m\n\u001b[1;32m    189\u001b[0m               \u001b[0;32mfor\u001b[0m \u001b[0mall\u001b[0m \u001b[0mdialogue\u001b[0m \u001b[0mturns\u001b[0m \u001b[0;32min\u001b[0m \u001b[0mall\u001b[0m \u001b[0mtraining\u001b[0m \u001b[0mtrackers\u001b[0m\u001b[0;34m\u001b[0m\u001b[0;34m\u001b[0m\u001b[0m\n\u001b[1;32m    190\u001b[0m         \"\"\"\n\u001b[0;32m--> 191\u001b[0;31m         state_features, label_ids, entity_tags = self.featurizer.featurize_trackers(\n\u001b[0m\u001b[1;32m    192\u001b[0m             \u001b[0mtraining_trackers\u001b[0m\u001b[0;34m,\u001b[0m\u001b[0;34m\u001b[0m\u001b[0;34m\u001b[0m\u001b[0m\n\u001b[1;32m    193\u001b[0m             \u001b[0mdomain\u001b[0m\u001b[0;34m,\u001b[0m\u001b[0;34m\u001b[0m\u001b[0;34m\u001b[0m\u001b[0m\n",
      "\u001b[0;32m~/.pyenv/versions/3.8.6/envs/ouatai/lib/python3.8/site-packages/rasa/core/featurizers/tracker_featurizers.py\u001b[0m in \u001b[0;36mfeaturize_trackers\u001b[0;34m(self, trackers, domain, interpreter, bilou_tagging, ignore_action_unlikely_intent)\u001b[0m\n\u001b[1;32m    389\u001b[0m             \u001b[0;32mreturn\u001b[0m \u001b[0mtracker_state_features\u001b[0m\u001b[0;34m,\u001b[0m \u001b[0mnp\u001b[0m\u001b[0;34m.\u001b[0m\u001b[0mndarray\u001b[0m\u001b[0;34m(\u001b[0m\u001b[0mtrackers_as_labels\u001b[0m\u001b[0;34m)\u001b[0m\u001b[0;34m,\u001b[0m \u001b[0;34m[\u001b[0m\u001b[0;34m]\u001b[0m\u001b[0;34m\u001b[0m\u001b[0;34m\u001b[0m\u001b[0m\n\u001b[1;32m    390\u001b[0m \u001b[0;34m\u001b[0m\u001b[0m\n\u001b[0;32m--> 391\u001b[0;31m         \u001b[0mlabel_ids\u001b[0m \u001b[0;34m=\u001b[0m \u001b[0mself\u001b[0m\u001b[0;34m.\u001b[0m\u001b[0m_convert_labels_to_ids\u001b[0m\u001b[0;34m(\u001b[0m\u001b[0mtrackers_as_labels\u001b[0m\u001b[0;34m,\u001b[0m \u001b[0mdomain\u001b[0m\u001b[0;34m)\u001b[0m\u001b[0;34m\u001b[0m\u001b[0;34m\u001b[0m\u001b[0m\n\u001b[0m\u001b[1;32m    392\u001b[0m \u001b[0;34m\u001b[0m\u001b[0m\n\u001b[1;32m    393\u001b[0m         entity_tags = self._create_entity_tags(\n",
      "\u001b[0;32m~/.pyenv/versions/3.8.6/envs/ouatai/lib/python3.8/site-packages/rasa/core/featurizers/tracker_featurizers.py\u001b[0m in \u001b[0;36m_convert_labels_to_ids\u001b[0;34m(cls, trackers_as_intents, domain)\u001b[0m\n\u001b[1;32m    957\u001b[0m         \u001b[0;31m# store labels in numpy arrays so that it corresponds to np arrays\u001b[0m\u001b[0;34m\u001b[0m\u001b[0;34m\u001b[0m\u001b[0;34m\u001b[0m\u001b[0m\n\u001b[1;32m    958\u001b[0m         \u001b[0;31m# of input features\u001b[0m\u001b[0;34m\u001b[0m\u001b[0;34m\u001b[0m\u001b[0;34m\u001b[0m\u001b[0m\n\u001b[0;32m--> 959\u001b[0;31m         label_ids = [\n\u001b[0m\u001b[1;32m    960\u001b[0m             \u001b[0;34m[\u001b[0m\u001b[0mdomain\u001b[0m\u001b[0;34m.\u001b[0m\u001b[0mintents\u001b[0m\u001b[0;34m.\u001b[0m\u001b[0mindex\u001b[0m\u001b[0;34m(\u001b[0m\u001b[0mintent\u001b[0m\u001b[0;34m)\u001b[0m \u001b[0;32mfor\u001b[0m \u001b[0mintent\u001b[0m \u001b[0;32min\u001b[0m \u001b[0mtracker_intents\u001b[0m\u001b[0;34m]\u001b[0m\u001b[0;34m\u001b[0m\u001b[0;34m\u001b[0m\u001b[0m\n\u001b[1;32m    961\u001b[0m             \u001b[0;32mfor\u001b[0m \u001b[0mtracker_intents\u001b[0m \u001b[0;32min\u001b[0m \u001b[0mtrackers_as_intents\u001b[0m\u001b[0;34m\u001b[0m\u001b[0;34m\u001b[0m\u001b[0m\n",
      "\u001b[0;32m~/.pyenv/versions/3.8.6/envs/ouatai/lib/python3.8/site-packages/rasa/core/featurizers/tracker_featurizers.py\u001b[0m in \u001b[0;36m<listcomp>\u001b[0;34m(.0)\u001b[0m\n\u001b[1;32m    958\u001b[0m         \u001b[0;31m# of input features\u001b[0m\u001b[0;34m\u001b[0m\u001b[0;34m\u001b[0m\u001b[0;34m\u001b[0m\u001b[0m\n\u001b[1;32m    959\u001b[0m         label_ids = [\n\u001b[0;32m--> 960\u001b[0;31m             \u001b[0;34m[\u001b[0m\u001b[0mdomain\u001b[0m\u001b[0;34m.\u001b[0m\u001b[0mintents\u001b[0m\u001b[0;34m.\u001b[0m\u001b[0mindex\u001b[0m\u001b[0;34m(\u001b[0m\u001b[0mintent\u001b[0m\u001b[0;34m)\u001b[0m \u001b[0;32mfor\u001b[0m \u001b[0mintent\u001b[0m \u001b[0;32min\u001b[0m \u001b[0mtracker_intents\u001b[0m\u001b[0;34m]\u001b[0m\u001b[0;34m\u001b[0m\u001b[0;34m\u001b[0m\u001b[0m\n\u001b[0m\u001b[1;32m    961\u001b[0m             \u001b[0;32mfor\u001b[0m \u001b[0mtracker_intents\u001b[0m \u001b[0;32min\u001b[0m \u001b[0mtrackers_as_intents\u001b[0m\u001b[0;34m\u001b[0m\u001b[0;34m\u001b[0m\u001b[0m\n\u001b[1;32m    962\u001b[0m         ]\n",
      "\u001b[0;32m~/.pyenv/versions/3.8.6/envs/ouatai/lib/python3.8/site-packages/rasa/core/featurizers/tracker_featurizers.py\u001b[0m in \u001b[0;36m<listcomp>\u001b[0;34m(.0)\u001b[0m\n\u001b[1;32m    958\u001b[0m         \u001b[0;31m# of input features\u001b[0m\u001b[0;34m\u001b[0m\u001b[0;34m\u001b[0m\u001b[0;34m\u001b[0m\u001b[0m\n\u001b[1;32m    959\u001b[0m         label_ids = [\n\u001b[0;32m--> 960\u001b[0;31m             \u001b[0;34m[\u001b[0m\u001b[0mdomain\u001b[0m\u001b[0;34m.\u001b[0m\u001b[0mintents\u001b[0m\u001b[0;34m.\u001b[0m\u001b[0mindex\u001b[0m\u001b[0;34m(\u001b[0m\u001b[0mintent\u001b[0m\u001b[0;34m)\u001b[0m \u001b[0;32mfor\u001b[0m \u001b[0mintent\u001b[0m \u001b[0;32min\u001b[0m \u001b[0mtracker_intents\u001b[0m\u001b[0;34m]\u001b[0m\u001b[0;34m\u001b[0m\u001b[0;34m\u001b[0m\u001b[0m\n\u001b[0m\u001b[1;32m    961\u001b[0m             \u001b[0;32mfor\u001b[0m \u001b[0mtracker_intents\u001b[0m \u001b[0;32min\u001b[0m \u001b[0mtrackers_as_intents\u001b[0m\u001b[0;34m\u001b[0m\u001b[0;34m\u001b[0m\u001b[0m\n\u001b[1;32m    962\u001b[0m         ]\n",
      "\u001b[0;31mValueError\u001b[0m: 'greet' is not in list"
     ]
    }
   ],
   "source": [
    "model_path = rasa.train(domain, config, [training_files], output)\n",
    "print(model_path)"
   ]
  },
  {
   "cell_type": "code",
   "execution_count": null,
   "id": "608ee400",
   "metadata": {},
   "outputs": [],
   "source": [
    "chat('models/20210903-110625.tar.gz')"
   ]
  },
  {
   "cell_type": "code",
   "execution_count": null,
   "id": "ed6fc8cf",
   "metadata": {},
   "outputs": [],
   "source": []
  }
 ],
 "metadata": {
  "kernelspec": {
   "display_name": "Python 3 (ipykernel)",
   "language": "python",
   "name": "python3"
  },
  "language_info": {
   "codemirror_mode": {
    "name": "ipython",
    "version": 3
   },
   "file_extension": ".py",
   "mimetype": "text/x-python",
   "name": "python",
   "nbconvert_exporter": "python",
   "pygments_lexer": "ipython3",
   "version": "3.8.6"
  },
  "toc": {
   "base_numbering": 1,
   "nav_menu": {},
   "number_sections": true,
   "sideBar": true,
   "skip_h1_title": false,
   "title_cell": "Table of Contents",
   "title_sidebar": "Contents",
   "toc_cell": false,
   "toc_position": {},
   "toc_section_display": true,
   "toc_window_display": false
  }
 },
 "nbformat": 4,
 "nbformat_minor": 5
}
